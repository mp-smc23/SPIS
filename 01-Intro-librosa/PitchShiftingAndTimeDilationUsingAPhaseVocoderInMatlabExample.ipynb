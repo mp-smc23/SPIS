{
 "cells": [
  {
   "cell_type": "markdown",
   "metadata": {},
   "source": [
    "\n",
    "# <span style=\"color:rgb(213,80,0)\">Pitch Shifting and Time Dilation Using a Phase Vocoder in MATLAB</span>\n",
    "\n",
    "This example shows how to implement a phase vocoder to time stretch and pitch scale an audio signal.\n",
    "\n",
    "## Introduction\n",
    "\n",
    "The phase vocoder performs time stretching and pitch scaling by transforming the audio into frequency domain. The following block diagram shows the operations involved in the phase vocoder implementation.\n",
    "\n",
    "\n",
    "<img src=\"data:image/png;base64,iVBORw0KGgoAAAANSUhEUgAAAs0AAACkCAIAAADjSYRtAAANoklEQVR42u3d3ZasJhBA4X7/lzZXyZp0KxbIv9++yJrM9LEVgdqUCJ8DAACgDR9FAAAAeAYAAOAZAAAAPAMAAPAMAADAMwAAAHgGAADgGQAAgGcAAADwDAAAwDMAAADPAAAAWNczPv9S/ZgDj/D5Py0uqnqhAQDAM2b3jM8FPAMAwDPGSEb1qDkqBp9aRS3VIBYAAJ5RzTO+/nQaZa9yBml9+fvL2yOkPxZUgYR8JD5/dZ65x4yUJAAAb/SMxAOIxF+DnhE5QvpjZSmH9NFO/3rrGbkFRTUAAJt7RjCFkMhDpLMUt98S/FPWxIigi9zqQsHZBv/38AgGWKsfX3ZeuQn1PGMBz4hU2Ug2IhKe09YSr4uRdEXEkOLFlXtMTQtY0TCWm1duQj3PmLEJxT0j+NQjoh1Z31V2gcH2wzMAJEY4jeaVT9UnmFDPM9p6elbszM1h3GZE0nWxuKLfzvbgGQCCETFr/tmROa88OO8+3Z8HB4fFFx4cAZpQzzNCb4LU/WvxtImgasSfwhS4Ns8AeEa8F00MadIBOJiITQ8ag0OsJykHE+p5RlfPKFPU6vNAI+m+yPzWFvNAeQawqGo8GX7kPkHO7ZcOE+rV0uU8PbKixlH09CH46uwTDQ86b9lfH2o4zwBWV43gTLLiodqTUZ8J9TxjN8/4Fd4CzzhqP1aMNI+Iraezdlk5G80D2Du3ERy4P/eM4DOFeKf95MJNdOMZi8kNACzalV2NzXp6xlXGwoR6nkEyAGCxXqts/tlR9bnJbe4hcgkm1POMrdqqCgFg0b4r/svW+YzcQ5lQzzPe21YBYK1hUmRSV/w3uUG053uthwn1PAMAMEo1Eh9r5xlHx3W64hduQj3PAAD00xHlAJ4BACAZ4BkAgEUMg2eAZwAAGnqGogDPAAAAPAMAAIBnAAAAngEAAHjGQlf1PlRlAADP6OcZ77qLPAMAwDPEXdcLoG7bl38FzxB3XS8AbV9/xTO0PdcLQNt3zuAZ6rF2C4BngGeox64XgLavv+IZ2t6Lr9fUMOzdNPauzzwDPEM9XsAz3DJoGot+L8/4ckp1nmcIWjzDLQPP4BmtDss2eIagxTPcMvAMntH2sGyDZ2h7PINngGfwjLaHZRs8Q9vb0zMSByz7E5CoNumac/rX04DEM/bzjL+VRA/DM7Q9nqEXQKFnJKIIz+AZcSsFz+AZi3lG4ge3DNU94zSK8AyewTZ4hrbHM3gGqnnGVxThGTyDbfCMeevxwyV3elbiPp4RXI+owDM+QJuVsoo94+HSW7N5xlS92QyewTZ4xvh6/HWEshq8k2dk6Yh8BvbLZ6zrGbP1ZvN4xlct0qB4xnjPOO2/fvu10w///Vj1aj2nZ5xeOM9AU8+I1KssA37eCub0jIG92WyeIb3BM+bKZ3y1uqyxe3HvNtwzanUiPAPtPCNer4rnZ+zkGQN7s2k9g22s4RmT7DzU0zOuhuyRYT3P4BloGhKqzwOtbiRTeUaf3mxyz1jXNqbd+e8z1V2pdbX98xkRzV/UM/o0Np6BJerV3p7RpzdbwjNOpWpd4R6rVp9Rdf1h5CsYxDxxw3SjTdv96SihW/7meVnxDPCMdt1dn75uqt7s4YTNsm7w4QkMsY3gl3aOv2M8I3iRFSti2UPZd46xHpaVZQDAM4Z7xsx9Xc+3V9KlEfSMh9nfzi8S3mpc//g7qWckXmR/7hnxSeY843a5i84P7XgGFq1Xty2lhWfM2deN8oysMq/7qLpbxxjpjfvH3wGe0S4bkxU7Iy/Nv7MzXaWseAZ2qlftPGODvq6iZ2S9Nr/cRNGKd79i/N3HM1osArhxT7pBWfEMbFOvhi94umt/lfXGxO8kkuN6pZD57/XDu88z5DPkM3gG5DPkM9rmM1rcGvmMF3nGy4OW+RlAz3plfsYknhHvBisW2jzzM3hGp9jZ7qxO5TF9y6/e+LqK5fOXFc8Azyg45jzvmySW2BrVp/V/36Ru4O9Ze0e9bTSXZwxpyR3Wz0jkpuK3vFvlsH4GsLFnVGm/8/Rp/dfPqD7m7OkZc9bw/T2jwykV1OY5PeP5v+UZ4Bm5B5wnEfhkF8PZPGNIJHrbKgmTesYx367BjZ6b3La0q5zk0p5RfPw599HGZhrROV23rmfM06fZ32TyC69/hlPdlXn2N0kc7XTf5I3zGUeXpXh4Bp4MBvpMP1pxv9bIVIbOfZr9WufMu8y+v8lps99mv9al52eMGp+dFqD9WtG6w+EZVx/YYH5Gh25/6Y5o//1aZyvuivesuKW91jPS+0PyDLTuWCP1qmnKbZvnJm/wjFU2ZV24nfKMl19v1hAtaMG5ntFTwz/ouF7h2DvyxDMe1jQvhC/hGfSCZ/CMuTyj+IBN8xkmgqxeJ5/vn1mQz+iwkqO+bmbPYBjTeUajtNIkbzrwjA4nU2V3Y57BM249I3hwnvFaz1jCMAbG3CO2H31eG886s/7vz/CMtTyjmy7wDJ5xlL5v0mfhSJ4xlWcsNAljqphbZXBYGOlv98eL/CbLmPqsa8szaml4t+fZPINnFHdfDV/k4xnTeMZyj0gmibm/IfjvD3kRuSyHc/XdWT9kPbaPfJhnrNtP8QyesVMY5hkzeMa6kzBmiLnxg9fxjOBXRnbcSR+NZ/AMnsEzeAbPeHjYbaZ5Doy5XT0jV6nSdimfwTN4hjrJM3hGo8NuYBiTxNze+YzgKveRj52qFs/gGTyDZ/AMnvHwsNu07oEx97ieXn2aPqnmGctVbp7BM9QNnsEz9M86+SlOfp5rrrjcOs/gGeoGz+AZQqZOvk/MbeIZ6vFOnrHWMtU8g2csUb31ddogeIbrfeO16+Ne5RnK2TmDZ6jHrnd/z3iycNmiIsUztP0ZzjlrC1/VlWeoCq53Sc8o6+OKPWO5+6Lj5hlTNT3VlWeoCnVibd1HyGU7Mr/QM666v6v1do7YesOnO6GP3dChlmfEt0ZrIXBNbanKreEZuV+UeAs0+DInb+AZPGMNx3+PZxzXydu6awknfrm0ZzRa57GiZ5SVeS3PWJHhTe8oXQKLZ/AMnlH+4ashcnApmNPjpD9TsN7Lop5x1VsV60WiAKuU6iqecVs5E4Z3mgG6PXLQM3JHxjutMTV5J5nrGfIZPGMrx+8zPkjnEhv9EBkflDXgRednVMlnREbVezw3+f1vz9p7hBd7rn5wNGp67hHPQO8AULERBid4v8czEqPbdGkER9un462xkzO6ecbVWLPFD79lfjqqqdVq0Kjp5dYf+Qyegbkc/2q09+Z8xvxnsqhnjE1jtGhQGFJFlT/PQL/hdbzHDA4RElmNd87PeIlkHA3eN4knz+J5hXSVDm5klRbr4JN++YyBPaFy4BlYOIRMeDK6lbU8Y5sRqtEzeAbAM7C2Z0w+QjV6Bs8A9pceHf3engGAZwA8w31xRwCeASwYz25T01O9b1J9kyeegXd2Au32UlA/eQZ0MZ+sHmfO91r369R4BsY2pW4VGDzjpeH2eM12UwnPOLWN+T0jsl51rbeCd/KM+F4kwzcRRB/PiKxJn/hrQdsEz9i8pb1zu6lbz5j2wUT69IIrnk2bCJnTMwx8N+790k0p2HCstMYzUOgZG283lbsLzOTrgQbXd5p8yer+u3cGczwzbCKIdk3p6iam7048n8EzeIaWZrupxfIZkR4zPfCaea2I4cEm+NSs/yaCaFfZcrcbrLuYPXjGez3jPdtNLTo/Ix3zErumHbM+IX6nZ2z8AtFynnEktxs87vKCZbvGg2e81DNetd3UQu+bvKfrn9MzBm4iiM0quVvMM15a49+53dRC62fwjOrfGHkHZ4ZNBLFTPXdzeQYW0/DW56ZT2NUzXBfAM0DDx5+bOCEeuy6AZwDihHIGwDMA8Q/KGQDPAHrGv8jbblVWzNxgPVAAPAPgGYVfEXzR97lnvNPnAPAM4NWe8fX7yHrq8XWBEm9RDl9KiGcA4BngGQO+Ir5MdWS9qWlXR+YZAHgGeEbXr7hdGy3iB6vs9sQzAPAM8IzmX/Fk262eq8LzDAA8A1gm/iWWY4/sd59IWlxtdZ0+Gs8AwDMA8U85A+AZgPgH5QyAZwDin3IGwDMA8U85A+AZgPgH5QyAZwDin3IGwDMA8U85A+AZgPgH5QyAZwDin3IGwDMA8U85A+AZgPgH5QyAZwDin3IGwDMA8U85A+AZgPgH5QyAZwDin3IGwDMA8U85A+AZwNbxD31Q2QDwDAAAwDMAAADPAAAA4Bl4Uy3PnzHw34dz5xmkP386faHuVIYq0yMS/7y4ZADwDGBPySiI6I2i6enJVPyKWvoS8QwA4BnASVz8DcZfOYC//3uaHvhNSPz9fCKvcOUZV19x9ZmrjMWVBJwmUX5F51R9rkrj6mhHpZwKAJ4BLKMap48qIoH29odTk7iN98HERuIrbhUqYSFXlxA5ctkPAHgG8KLcxkPPSGQX0imHdBIikRI4zW3EPeP3aEGHSPxbngGAZwCpKRF1Y2c695DlGWkhCE6eKEjJtPsBAM8AdlaN+FSJr/xB1pSF42LCR4FnpOeIJCZAJD4cn1ERSd6kj8YzAPAMyHMAAHgGQDIAgGcAAADwDAAAwDMAAADPAAAA4BkAAIBnAAAAngEAAMAzAAAAzwAAADwDAACAZwAAAJ4BAAB4BgAAAM8AAAAj+Qcqi39D6WjtXQAAAABJRU5ErkJggg==\" width=\"720\" alt=\"image_0.png\">\n",
    "\n",
    "\n",
    "The phase vocoder has an analysis section that performs an overlapped short\\-time FFT (ST\\-FFT) and a synthesis section that performs an overlapped inverse short\\-time FFT (IST\\-FFT). To time stretch a signal, the phase vocoder uses a larger hop size for the overlap\\-add operation in the synthesis section than the analysis section. Here, the hop size is the number of samples processed at one time. As a result, there are more samples at the output than at the input although the frequency content remains the same. Now, you can pitch scale this signal by playing it back at a higher sample rate, which produces a signal with the original duration but a higher pitch.\n",
    "\n",
    "## Initialization\n",
    "\n",
    "To achieve optimal performance, you must create and initialize your System objects before using them in a processing loop. Use these next sections of code to initialize the required variables and load the input speech data. You set an analysis hop size of 64 and a synthesis hop size of 90 because you want to stretch the signal by a factor of 90/64.\n",
    "\n",
    "\n",
    "Initialize some variables used in configuring the System objects you create below.\n",
    ""
   ]
  },
  {
   "cell_type": "code",
   "execution_count": 1,
   "metadata": {},
   "source": [
    "WindowLen = 256;\n",
    "AnalysisLen = 64;\n",
    "SynthesisLen = 90;\n",
    "Hopratio = SynthesisLen/AnalysisLen;"
   ],
   "outputs": []
  },
  {
   "cell_type": "markdown",
   "metadata": {},
   "source": [
    "\n",
    "Create a System object to read in the input speech signal from an audio file.\n",
    ""
   ]
  },
  {
   "cell_type": "code",
   "execution_count": 2,
   "metadata": {},
   "source": [
    "reader = dsp.AudioFileReader('SpeechDFT-16-8-mono-5secs.wav', ...\n",
    "  'SamplesPerFrame',AnalysisLen, ...\n",
    "  'OutputDataType','double');"
   ],
   "outputs": []
  },
  {
   "cell_type": "markdown",
   "metadata": {},
   "source": [
    "\n",
    "Create STFT/ISTFT pair\n",
    ""
   ]
  },
  {
   "cell_type": "code",
   "execution_count": 3,
   "metadata": {},
   "source": [
    "win = sqrt(hanning(WindowLen,'periodic'));\n",
    "stft = dsp.STFT(win, WindowLen - AnalysisLen, WindowLen);\n",
    "istft = dsp.ISTFT(win, WindowLen - SynthesisLen );"
   ],
   "outputs": []
  },
  {
   "cell_type": "markdown",
   "metadata": {},
   "source": [
    "\n",
    "Create a System object to play the original speech signal.\n",
    ""
   ]
  },
  {
   "cell_type": "code",
   "execution_count": 4,
   "metadata": {},
   "source": [
    "Fs = 8000;\n",
    "player = audioDeviceWriter('SampleRate',Fs, ...\n",
    "    'SupportVariableSizeInput',true, ...\n",
    "    'BufferSize',512);\n",
    ""
   ],
   "outputs": []
  },
  {
   "cell_type": "markdown",
   "metadata": {},
   "source": [
    "\n",
    "Create a System object to log your data.\n",
    ""
   ]
  },
  {
   "cell_type": "code",
   "execution_count": 5,
   "metadata": {},
   "source": [
    "logger = dsp.SignalSink;"
   ],
   "outputs": []
  },
  {
   "cell_type": "markdown",
   "metadata": {},
   "source": [
    "\n",
    "Initialize the variables used in the processing loop.\n",
    ""
   ]
  },
  {
   "cell_type": "code",
   "execution_count": 6,
   "metadata": {},
   "source": [
    "unwrapdata = 2*pi*AnalysisLen*(0:WindowLen-1)'/WindowLen;\n",
    "yangle = zeros(WindowLen,1);\n",
    "firsttime = true;"
   ],
   "outputs": []
  },
  {
   "cell_type": "markdown",
   "metadata": {},
   "source": [
    "## Stream Processing Loop\n",
    "\n",
    "Now that you have instantiated your System objects, you can create a processing loop that performs time stretching on the input signal. The loop is stopped when you reach the end of the input file, which is detected by the <samp>AudioFileReader</samp> System object.\n",
    ""
   ]
  },
  {
   "cell_type": "code",
   "execution_count": 7,
   "metadata": {},
   "source": [
    "while ~isDone(reader)\n",
    "    y = reader();\n",
    "\n",
    "    player(y); % Play back original audio\n",
    "\n",
    "    % ST-FFT\n",
    "    yfft = stft(y);\n",
    "\n",
    "    % Convert complex FFT data to magnitude and phase.\n",
    "    ymag       = abs(yfft);\n",
    "    yprevangle = yangle;\n",
    "    yangle     = angle(yfft);\n",
    "\n",
    "    % Synthesis Phase Calculation\n",
    "    % The synthesis phase is calculated by computing the phase increments\n",
    "    % between successive frequency transforms, unwrapping them, and scaling\n",
    "    % them by the ratio between the analysis and synthesis hop sizes.\n",
    "    yunwrap = (yangle - yprevangle) - unwrapdata;\n",
    "    yunwrap = yunwrap - round(yunwrap/(2*pi))*2*pi;\n",
    "    yunwrap = (yunwrap + unwrapdata) * Hopratio;\n",
    "    if firsttime\n",
    "        ysangle = yangle;\n",
    "        firsttime = false;\n",
    "    else\n",
    "        ysangle = ysangle + yunwrap;\n",
    "    end\n",
    "\n",
    "    % Convert magnitude and phase to complex numbers.\n",
    "    ys = ymag .* complex(cos(ysangle), sin(ysangle));\n",
    "\n",
    "    % IST-FFT\n",
    "    yistfft = istft(ys);\n",
    "\n",
    "    logger(yistfft) % Log signal\n",
    "end"
   ],
   "outputs": []
  },
  {
   "cell_type": "markdown",
   "metadata": {},
   "source": [
    "## Release\n",
    "\n",
    "Call  release on the System objects to close any open files and devices.\n",
    ""
   ]
  },
  {
   "cell_type": "code",
   "execution_count": 8,
   "metadata": {},
   "source": [
    "release(reader)\n",
    "release(player)"
   ],
   "outputs": []
  },
  {
   "cell_type": "markdown",
   "metadata": {},
   "source": [
    "## Play the Time\\-Stretched Signals"
   ]
  },
  {
   "cell_type": "code",
   "execution_count": 9,
   "metadata": {},
   "source": [
    "loggedSpeech = logger.Buffer(200:end)';\n",
    "player = audioDeviceWriter('SampleRate',Fs, ...\n",
    "    'SupportVariableSizeInput',true, ...\n",
    "    'BufferSize',512);\n",
    "player(loggedSpeech.');"
   ],
   "outputs": []
  },
  {
   "cell_type": "markdown",
   "metadata": {},
   "source": [
    "## Play the Pitch\\-Scaled Signals\n",
    "\n",
    "The pitch\\-scaled signal is the time\\-stretched signal played at a higher sampling rate which produces a signal with a higher pitch.\n",
    ""
   ]
  },
  {
   "cell_type": "code",
   "execution_count": 10,
   "metadata": {},
   "source": [
    "Fs_new = Fs*(SynthesisLen/AnalysisLen);\n",
    "player = audioDeviceWriter('SampleRate',Fs_new, ...\n",
    "    'SupportVariableSizeInput',true, ...\n",
    "    'BufferSize',1024);\n",
    "player(loggedSpeech.');"
   ],
   "outputs": []
  },
  {
   "cell_type": "markdown",
   "metadata": {},
   "source": [
    "## Time Dilation with <samp>audioTimeScaler</samp>\n",
    "\n",
    "You can easily apply time dilation with [audioTimeScaler](docid:audio_ref#mw_9e215ef9-f35b-4642-8873-e54e9e1ea4e5). <samp>audioTimeScaler</samp> implements an analysis\\-synthesis phase vocoder for time scaling.\n",
    "\n",
    "\n",
    "Instantiate an <samp>audioTimeScaler</samp> with the desired speedup factor, window, and analysis hop length:\n",
    ""
   ]
  },
  {
   "cell_type": "code",
   "execution_count": 11,
   "metadata": {},
   "source": [
    "ats = audioTimeScaler(AnalysisLen/SynthesisLen,'Window',win,'OverlapLength',WindowLen-AnalysisLen);"
   ],
   "outputs": []
  },
  {
   "cell_type": "markdown",
   "metadata": {},
   "source": [
    "\n",
    "Create a System object to play the time\\-stretched speech signal.\n",
    ""
   ]
  },
  {
   "cell_type": "code",
   "execution_count": 12,
   "metadata": {},
   "source": [
    "player = audioDeviceWriter('SampleRate',Fs, ...\n",
    "    'SupportVariableSizeInput',true, ...\n",
    "    'BufferSize',512);"
   ],
   "outputs": []
  },
  {
   "cell_type": "markdown",
   "metadata": {},
   "source": [
    "\n",
    "Create a processing loop that performs time stretching on the input signal.\n",
    ""
   ]
  },
  {
   "cell_type": "code",
   "execution_count": 13,
   "metadata": {},
   "source": [
    "while ~isDone(reader)\n",
    "\n",
    "    x = reader();\n",
    "\n",
    "    % Time-scale the signal\n",
    "    y = ats(x);\n",
    "\n",
    "    % Play the time-scaled signal\n",
    "    player(y);\n",
    "end\n",
    "\n",
    "release(reader)\n",
    "release(player)"
   ],
   "outputs": []
}
,
  {
   "cell_type": "markdown",
   "metadata": {},
   "source": [
    "## Summary\n",
    "\n",
    "This example shows the implementation of a phase vocoder to perform time stretching and pitch scaling of a speech signal. You can hear these time\\-stretched and pitch\\-scaled signals when you run the example.\n",
    "\n",
    "## References\n",
    "\n",
    "A. D. Gotzen, N. Bernardini and D. Arfib, \"Traditional Implementations of a Phase\\-Vocoder: The Tricks of the Trade,\" Proceedings of the COST G\\-6 Conference on Digital Audio Effects (DAFX\\-00), Verona, Italy, December 7\\-9, 2000.\n",
    "\n",
    "\n",
    "*Copyright 1995\\-2019 The MathWorks, Inc.*\n",
    "\n",
    ""
   ]
  }
 ],
 "metadata": {
  "kernelspec": {
   "display_name": "MATLAB (matlabkernel)",
   "language": "matlab",
   "name": "matlab"
  },
  "language_info": {
   "file_extension": ".m",
   "mimetype": "text/matlab",
   "name": "matlab",
   "nbconvert_exporter": "matlab",
   "pygments_lexer": "matlab",
   "version": "24.1.0.2498408"
  }
 },
 "nbformat": 4,
 "nbformat_minor": 4
}